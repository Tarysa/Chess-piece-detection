{
 "cells": [
  {
   "cell_type": "markdown",
   "id": "5ff1d0a8-b565-43bf-a062-7c878ee273e8",
   "metadata": {},
   "source": [
    "# With the use of labeled chess pieces, the goal is to recognize in a chess board (object detection) and being able to name! them (classification)"
   ]
  },
  {
   "cell_type": "markdown",
   "id": "fd9b5330-6a2f-4a81-b098-6fae90bd24ec",
   "metadata": {},
   "source": [
    "## Library importation"
   ]
  },
  {
   "cell_type": "code",
   "execution_count": 86,
   "id": "4588a249-bd4d-4caf-875b-6f0a5d14a7ae",
   "metadata": {},
   "outputs": [],
   "source": [
    "import os\n",
    "import numpy as np\n",
    "from PIL import Image\n",
    "import matplotlib.pyplot as plt\n",
    "import tensorflow as tf\n",
    "import seaborn as sns\n",
    "from tensorflow.keras.applications.mobilenet import preprocess_input\n",
    "from tensorflow.keras import models\n",
    "from sklearn.model_selection import train_test_split\n",
    "from sklearn.preprocessing import OneHotEncoder\n",
    "from sklearn.metrics import confusion_matrix, plot_confusion_matrix"
   ]
  },
  {
   "cell_type": "markdown",
   "id": "33594104-0496-41d3-9d6a-ad8cb3d2edc6",
   "metadata": {},
   "source": [
    "## Data importation"
   ]
  },
  {
   "cell_type": "code",
   "execution_count": 92,
   "id": "0d4d629a-3fe1-4275-a40f-af7b1bd96cc1",
   "metadata": {},
   "outputs": [],
   "source": [
    "data = {}\n",
    "for dir_name in os.listdir(\"Dataset/classification\"):\n",
    "    if dir_name != '.ipynb_checkpoints':\n",
    "        temp = []\n",
    "        for file in os.listdir(\"Dataset/classification/\" + dir_name):\n",
    "            if file.endswith(\".jpg\"):\n",
    "                im = Image.open(\"Dataset/classification/\" + dir_name + \"/\" + file)\n",
    "                temp.append(np.array(im))\n",
    "        data[dir_name] = np.array(temp)"
   ]
  },
  {
   "cell_type": "code",
   "execution_count": 93,
   "id": "eafe8d9e-9e23-4d39-8ace-b97104d9784a",
   "metadata": {},
   "outputs": [
    {
     "name": "stdout",
     "output_type": "stream",
     "text": [
      "bishop (141, 224, 224, 3)\n",
      "knight (174, 224, 224, 3)\n",
      "pawn (82, 224, 224, 3)\n",
      "Queen (115, 224, 224, 3)\n",
      "Rook (139, 224, 224, 3)\n"
     ]
    }
   ],
   "source": [
    "for d_type in data.keys():\n",
    "    print(d_type, data[d_type].shape)"
   ]
  },
  {
   "cell_type": "markdown",
   "id": "fe3f4aa1-b03a-491d-bbb2-1c182966e90b",
   "metadata": {},
   "source": [
    "## Use of MobileNetV2"
   ]
  },
  {
   "cell_type": "markdown",
   "id": "f26457ef-f316-4a12-a6d0-188de6939377",
   "metadata": {},
   "source": [
    "MobileNet Preprocessing"
   ]
  },
  {
   "cell_type": "code",
   "execution_count": 41,
   "id": "8cf60211-ec98-46f7-af17-e2a26b53a058",
   "metadata": {},
   "outputs": [],
   "source": [
    "all_data = np.concatenate(list(data.values()), axis = 0)\n",
    "all_labels = []\n",
    "for key_id, key in enumerate(data.keys()):\n",
    "    all_labels += [key_id]*len(data[key])\n",
    "    \n",
    "one_hot = OneHotEncoder(handle_unknown='ignore')\n",
    "all_labels = np.array(all_labels).reshape(-1,1)\n",
    "one_hot.fit(all_labels)\n",
    "all_labels_one_hot = one_hot.transform(all_labels).toarray()"
   ]
  },
  {
   "cell_type": "code",
   "execution_count": 44,
   "id": "729dbfa3-365f-4916-9fcc-3c782e6368b0",
   "metadata": {},
   "outputs": [
    {
     "name": "stdout",
     "output_type": "stream",
     "text": [
      "(651, 224, 224, 3)\n",
      "(651, 5)\n"
     ]
    }
   ],
   "source": [
    "print(all_data.shape)\n",
    "print(all_labels_one_hot.shape)"
   ]
  },
  {
   "cell_type": "code",
   "execution_count": 45,
   "id": "139f5ebf-d5e7-4095-93bf-87ac69554538",
   "metadata": {},
   "outputs": [],
   "source": [
    "X_train, X_test, y_train, y_test = train_test_split(all_data, all_labels_one_hot, test_size=0.2, random_state=0)"
   ]
  },
  {
   "cell_type": "code",
   "execution_count": 46,
   "id": "e5f29713-3144-4abf-aa60-325c66927433",
   "metadata": {},
   "outputs": [],
   "source": [
    "X_train = tf.keras.applications.mobilenet.preprocess_input(X_train)\n",
    "X_test = tf.keras.applications.mobilenet.preprocess_input(X_test)"
   ]
  },
  {
   "cell_type": "code",
   "execution_count": 47,
   "id": "e7780bc3-62b7-4711-bf3c-49865a0050e8",
   "metadata": {},
   "outputs": [],
   "source": [
    "IMG_SHAPE = X_train.shape[1:]\n",
    "nb_classes = len(data)\n",
    "mobileNet = tf.keras.applications.MobileNetV2(\n",
    "    input_shape=IMG_SHAPE,\n",
    "    alpha=1.0,\n",
    "    include_top=False,\n",
    "    weights=\"imagenet\"\n",
    ")"
   ]
  },
  {
   "cell_type": "code",
   "execution_count": 48,
   "id": "9ac880d9-675f-49e4-9845-5096563ef271",
   "metadata": {},
   "outputs": [],
   "source": [
    "mobileNet.trainable = False"
   ]
  },
  {
   "cell_type": "code",
   "execution_count": 49,
   "id": "d7ccea5d-7b6a-48ea-a987-76d281041376",
   "metadata": {
    "scrolled": true,
    "tags": []
   },
   "outputs": [
    {
     "name": "stdout",
     "output_type": "stream",
     "text": [
      "Model: \"mobilenetv2_1.00_224\"\n",
      "__________________________________________________________________________________________________\n",
      " Layer (type)                   Output Shape         Param #     Connected to                     \n",
      "==================================================================================================\n",
      " input_3 (InputLayer)           [(None, 224, 224, 3  0           []                               \n",
      "                                )]                                                                \n",
      "                                                                                                  \n",
      " Conv1 (Conv2D)                 (None, 112, 112, 32  864         ['input_3[0][0]']                \n",
      "                                )                                                                 \n",
      "                                                                                                  \n",
      " bn_Conv1 (BatchNormalization)  (None, 112, 112, 32  128         ['Conv1[0][0]']                  \n",
      "                                )                                                                 \n",
      "                                                                                                  \n",
      " Conv1_relu (ReLU)              (None, 112, 112, 32  0           ['bn_Conv1[0][0]']               \n",
      "                                )                                                                 \n",
      "                                                                                                  \n",
      " expanded_conv_depthwise (Depth  (None, 112, 112, 32  288        ['Conv1_relu[0][0]']             \n",
      " wiseConv2D)                    )                                                                 \n",
      "                                                                                                  \n",
      " expanded_conv_depthwise_BN (Ba  (None, 112, 112, 32  128        ['expanded_conv_depthwise[0][0]']\n",
      " tchNormalization)              )                                                                 \n",
      "                                                                                                  \n",
      " expanded_conv_depthwise_relu (  (None, 112, 112, 32  0          ['expanded_conv_depthwise_BN[0][0\n",
      " ReLU)                          )                                ]']                              \n",
      "                                                                                                  \n",
      " expanded_conv_project (Conv2D)  (None, 112, 112, 16  512        ['expanded_conv_depthwise_relu[0]\n",
      "                                )                                [0]']                            \n",
      "                                                                                                  \n",
      " expanded_conv_project_BN (Batc  (None, 112, 112, 16  64         ['expanded_conv_project[0][0]']  \n",
      " hNormalization)                )                                                                 \n",
      "                                                                                                  \n",
      " block_1_expand (Conv2D)        (None, 112, 112, 96  1536        ['expanded_conv_project_BN[0][0]'\n",
      "                                )                                ]                                \n",
      "                                                                                                  \n",
      " block_1_expand_BN (BatchNormal  (None, 112, 112, 96  384        ['block_1_expand[0][0]']         \n",
      " ization)                       )                                                                 \n",
      "                                                                                                  \n",
      " block_1_expand_relu (ReLU)     (None, 112, 112, 96  0           ['block_1_expand_BN[0][0]']      \n",
      "                                )                                                                 \n",
      "                                                                                                  \n",
      " block_1_pad (ZeroPadding2D)    (None, 113, 113, 96  0           ['block_1_expand_relu[0][0]']    \n",
      "                                )                                                                 \n",
      "                                                                                                  \n",
      " block_1_depthwise (DepthwiseCo  (None, 56, 56, 96)  864         ['block_1_pad[0][0]']            \n",
      " nv2D)                                                                                            \n",
      "                                                                                                  \n",
      " block_1_depthwise_BN (BatchNor  (None, 56, 56, 96)  384         ['block_1_depthwise[0][0]']      \n",
      " malization)                                                                                      \n",
      "                                                                                                  \n",
      " block_1_depthwise_relu (ReLU)  (None, 56, 56, 96)   0           ['block_1_depthwise_BN[0][0]']   \n",
      "                                                                                                  \n",
      " block_1_project (Conv2D)       (None, 56, 56, 24)   2304        ['block_1_depthwise_relu[0][0]'] \n",
      "                                                                                                  \n",
      " block_1_project_BN (BatchNorma  (None, 56, 56, 24)  96          ['block_1_project[0][0]']        \n",
      " lization)                                                                                        \n",
      "                                                                                                  \n",
      " block_2_expand (Conv2D)        (None, 56, 56, 144)  3456        ['block_1_project_BN[0][0]']     \n",
      "                                                                                                  \n",
      " block_2_expand_BN (BatchNormal  (None, 56, 56, 144)  576        ['block_2_expand[0][0]']         \n",
      " ization)                                                                                         \n",
      "                                                                                                  \n",
      " block_2_expand_relu (ReLU)     (None, 56, 56, 144)  0           ['block_2_expand_BN[0][0]']      \n",
      "                                                                                                  \n",
      " block_2_depthwise (DepthwiseCo  (None, 56, 56, 144)  1296       ['block_2_expand_relu[0][0]']    \n",
      " nv2D)                                                                                            \n",
      "                                                                                                  \n",
      " block_2_depthwise_BN (BatchNor  (None, 56, 56, 144)  576        ['block_2_depthwise[0][0]']      \n",
      " malization)                                                                                      \n",
      "                                                                                                  \n",
      " block_2_depthwise_relu (ReLU)  (None, 56, 56, 144)  0           ['block_2_depthwise_BN[0][0]']   \n",
      "                                                                                                  \n",
      " block_2_project (Conv2D)       (None, 56, 56, 24)   3456        ['block_2_depthwise_relu[0][0]'] \n",
      "                                                                                                  \n",
      " block_2_project_BN (BatchNorma  (None, 56, 56, 24)  96          ['block_2_project[0][0]']        \n",
      " lization)                                                                                        \n",
      "                                                                                                  \n",
      " block_2_add (Add)              (None, 56, 56, 24)   0           ['block_1_project_BN[0][0]',     \n",
      "                                                                  'block_2_project_BN[0][0]']     \n",
      "                                                                                                  \n",
      " block_3_expand (Conv2D)        (None, 56, 56, 144)  3456        ['block_2_add[0][0]']            \n",
      "                                                                                                  \n",
      " block_3_expand_BN (BatchNormal  (None, 56, 56, 144)  576        ['block_3_expand[0][0]']         \n",
      " ization)                                                                                         \n",
      "                                                                                                  \n",
      " block_3_expand_relu (ReLU)     (None, 56, 56, 144)  0           ['block_3_expand_BN[0][0]']      \n",
      "                                                                                                  \n",
      " block_3_pad (ZeroPadding2D)    (None, 57, 57, 144)  0           ['block_3_expand_relu[0][0]']    \n",
      "                                                                                                  \n",
      " block_3_depthwise (DepthwiseCo  (None, 28, 28, 144)  1296       ['block_3_pad[0][0]']            \n",
      " nv2D)                                                                                            \n",
      "                                                                                                  \n",
      " block_3_depthwise_BN (BatchNor  (None, 28, 28, 144)  576        ['block_3_depthwise[0][0]']      \n",
      " malization)                                                                                      \n",
      "                                                                                                  \n",
      " block_3_depthwise_relu (ReLU)  (None, 28, 28, 144)  0           ['block_3_depthwise_BN[0][0]']   \n",
      "                                                                                                  \n",
      " block_3_project (Conv2D)       (None, 28, 28, 32)   4608        ['block_3_depthwise_relu[0][0]'] \n",
      "                                                                                                  \n",
      " block_3_project_BN (BatchNorma  (None, 28, 28, 32)  128         ['block_3_project[0][0]']        \n",
      " lization)                                                                                        \n",
      "                                                                                                  \n",
      " block_4_expand (Conv2D)        (None, 28, 28, 192)  6144        ['block_3_project_BN[0][0]']     \n",
      "                                                                                                  \n",
      " block_4_expand_BN (BatchNormal  (None, 28, 28, 192)  768        ['block_4_expand[0][0]']         \n",
      " ization)                                                                                         \n",
      "                                                                                                  \n",
      " block_4_expand_relu (ReLU)     (None, 28, 28, 192)  0           ['block_4_expand_BN[0][0]']      \n",
      "                                                                                                  \n",
      " block_4_depthwise (DepthwiseCo  (None, 28, 28, 192)  1728       ['block_4_expand_relu[0][0]']    \n",
      " nv2D)                                                                                            \n",
      "                                                                                                  \n",
      " block_4_depthwise_BN (BatchNor  (None, 28, 28, 192)  768        ['block_4_depthwise[0][0]']      \n",
      " malization)                                                                                      \n",
      "                                                                                                  \n",
      " block_4_depthwise_relu (ReLU)  (None, 28, 28, 192)  0           ['block_4_depthwise_BN[0][0]']   \n",
      "                                                                                                  \n",
      " block_4_project (Conv2D)       (None, 28, 28, 32)   6144        ['block_4_depthwise_relu[0][0]'] \n",
      "                                                                                                  \n",
      " block_4_project_BN (BatchNorma  (None, 28, 28, 32)  128         ['block_4_project[0][0]']        \n",
      " lization)                                                                                        \n",
      "                                                                                                  \n",
      " block_4_add (Add)              (None, 28, 28, 32)   0           ['block_3_project_BN[0][0]',     \n",
      "                                                                  'block_4_project_BN[0][0]']     \n",
      "                                                                                                  \n",
      " block_5_expand (Conv2D)        (None, 28, 28, 192)  6144        ['block_4_add[0][0]']            \n",
      "                                                                                                  \n",
      " block_5_expand_BN (BatchNormal  (None, 28, 28, 192)  768        ['block_5_expand[0][0]']         \n",
      " ization)                                                                                         \n",
      "                                                                                                  \n",
      " block_5_expand_relu (ReLU)     (None, 28, 28, 192)  0           ['block_5_expand_BN[0][0]']      \n",
      "                                                                                                  \n",
      " block_5_depthwise (DepthwiseCo  (None, 28, 28, 192)  1728       ['block_5_expand_relu[0][0]']    \n",
      " nv2D)                                                                                            \n",
      "                                                                                                  \n",
      " block_5_depthwise_BN (BatchNor  (None, 28, 28, 192)  768        ['block_5_depthwise[0][0]']      \n",
      " malization)                                                                                      \n",
      "                                                                                                  \n",
      " block_5_depthwise_relu (ReLU)  (None, 28, 28, 192)  0           ['block_5_depthwise_BN[0][0]']   \n",
      "                                                                                                  \n",
      " block_5_project (Conv2D)       (None, 28, 28, 32)   6144        ['block_5_depthwise_relu[0][0]'] \n",
      "                                                                                                  \n",
      " block_5_project_BN (BatchNorma  (None, 28, 28, 32)  128         ['block_5_project[0][0]']        \n",
      " lization)                                                                                        \n",
      "                                                                                                  \n",
      " block_5_add (Add)              (None, 28, 28, 32)   0           ['block_4_add[0][0]',            \n",
      "                                                                  'block_5_project_BN[0][0]']     \n",
      "                                                                                                  \n",
      " block_6_expand (Conv2D)        (None, 28, 28, 192)  6144        ['block_5_add[0][0]']            \n",
      "                                                                                                  \n",
      " block_6_expand_BN (BatchNormal  (None, 28, 28, 192)  768        ['block_6_expand[0][0]']         \n",
      " ization)                                                                                         \n",
      "                                                                                                  \n",
      " block_6_expand_relu (ReLU)     (None, 28, 28, 192)  0           ['block_6_expand_BN[0][0]']      \n",
      "                                                                                                  \n",
      " block_6_pad (ZeroPadding2D)    (None, 29, 29, 192)  0           ['block_6_expand_relu[0][0]']    \n",
      "                                                                                                  \n",
      " block_6_depthwise (DepthwiseCo  (None, 14, 14, 192)  1728       ['block_6_pad[0][0]']            \n",
      " nv2D)                                                                                            \n",
      "                                                                                                  \n",
      " block_6_depthwise_BN (BatchNor  (None, 14, 14, 192)  768        ['block_6_depthwise[0][0]']      \n",
      " malization)                                                                                      \n",
      "                                                                                                  \n",
      " block_6_depthwise_relu (ReLU)  (None, 14, 14, 192)  0           ['block_6_depthwise_BN[0][0]']   \n",
      "                                                                                                  \n",
      " block_6_project (Conv2D)       (None, 14, 14, 64)   12288       ['block_6_depthwise_relu[0][0]'] \n",
      "                                                                                                  \n",
      " block_6_project_BN (BatchNorma  (None, 14, 14, 64)  256         ['block_6_project[0][0]']        \n",
      " lization)                                                                                        \n",
      "                                                                                                  \n",
      " block_7_expand (Conv2D)        (None, 14, 14, 384)  24576       ['block_6_project_BN[0][0]']     \n",
      "                                                                                                  \n",
      " block_7_expand_BN (BatchNormal  (None, 14, 14, 384)  1536       ['block_7_expand[0][0]']         \n",
      " ization)                                                                                         \n",
      "                                                                                                  \n",
      " block_7_expand_relu (ReLU)     (None, 14, 14, 384)  0           ['block_7_expand_BN[0][0]']      \n",
      "                                                                                                  \n",
      " block_7_depthwise (DepthwiseCo  (None, 14, 14, 384)  3456       ['block_7_expand_relu[0][0]']    \n",
      " nv2D)                                                                                            \n",
      "                                                                                                  \n",
      " block_7_depthwise_BN (BatchNor  (None, 14, 14, 384)  1536       ['block_7_depthwise[0][0]']      \n",
      " malization)                                                                                      \n",
      "                                                                                                  \n",
      " block_7_depthwise_relu (ReLU)  (None, 14, 14, 384)  0           ['block_7_depthwise_BN[0][0]']   \n",
      "                                                                                                  \n",
      " block_7_project (Conv2D)       (None, 14, 14, 64)   24576       ['block_7_depthwise_relu[0][0]'] \n",
      "                                                                                                  \n",
      " block_7_project_BN (BatchNorma  (None, 14, 14, 64)  256         ['block_7_project[0][0]']        \n",
      " lization)                                                                                        \n",
      "                                                                                                  \n",
      " block_7_add (Add)              (None, 14, 14, 64)   0           ['block_6_project_BN[0][0]',     \n",
      "                                                                  'block_7_project_BN[0][0]']     \n",
      "                                                                                                  \n",
      " block_8_expand (Conv2D)        (None, 14, 14, 384)  24576       ['block_7_add[0][0]']            \n",
      "                                                                                                  \n",
      " block_8_expand_BN (BatchNormal  (None, 14, 14, 384)  1536       ['block_8_expand[0][0]']         \n",
      " ization)                                                                                         \n",
      "                                                                                                  \n",
      " block_8_expand_relu (ReLU)     (None, 14, 14, 384)  0           ['block_8_expand_BN[0][0]']      \n",
      "                                                                                                  \n",
      " block_8_depthwise (DepthwiseCo  (None, 14, 14, 384)  3456       ['block_8_expand_relu[0][0]']    \n",
      " nv2D)                                                                                            \n",
      "                                                                                                  \n",
      " block_8_depthwise_BN (BatchNor  (None, 14, 14, 384)  1536       ['block_8_depthwise[0][0]']      \n",
      " malization)                                                                                      \n",
      "                                                                                                  \n",
      " block_8_depthwise_relu (ReLU)  (None, 14, 14, 384)  0           ['block_8_depthwise_BN[0][0]']   \n",
      "                                                                                                  \n",
      " block_8_project (Conv2D)       (None, 14, 14, 64)   24576       ['block_8_depthwise_relu[0][0]'] \n",
      "                                                                                                  \n",
      " block_8_project_BN (BatchNorma  (None, 14, 14, 64)  256         ['block_8_project[0][0]']        \n",
      " lization)                                                                                        \n",
      "                                                                                                  \n",
      " block_8_add (Add)              (None, 14, 14, 64)   0           ['block_7_add[0][0]',            \n",
      "                                                                  'block_8_project_BN[0][0]']     \n",
      "                                                                                                  \n",
      " block_9_expand (Conv2D)        (None, 14, 14, 384)  24576       ['block_8_add[0][0]']            \n",
      "                                                                                                  \n",
      " block_9_expand_BN (BatchNormal  (None, 14, 14, 384)  1536       ['block_9_expand[0][0]']         \n",
      " ization)                                                                                         \n",
      "                                                                                                  \n",
      " block_9_expand_relu (ReLU)     (None, 14, 14, 384)  0           ['block_9_expand_BN[0][0]']      \n",
      "                                                                                                  \n",
      " block_9_depthwise (DepthwiseCo  (None, 14, 14, 384)  3456       ['block_9_expand_relu[0][0]']    \n",
      " nv2D)                                                                                            \n",
      "                                                                                                  \n",
      " block_9_depthwise_BN (BatchNor  (None, 14, 14, 384)  1536       ['block_9_depthwise[0][0]']      \n",
      " malization)                                                                                      \n",
      "                                                                                                  \n",
      " block_9_depthwise_relu (ReLU)  (None, 14, 14, 384)  0           ['block_9_depthwise_BN[0][0]']   \n",
      "                                                                                                  \n",
      " block_9_project (Conv2D)       (None, 14, 14, 64)   24576       ['block_9_depthwise_relu[0][0]'] \n",
      "                                                                                                  \n",
      " block_9_project_BN (BatchNorma  (None, 14, 14, 64)  256         ['block_9_project[0][0]']        \n",
      " lization)                                                                                        \n",
      "                                                                                                  \n",
      " block_9_add (Add)              (None, 14, 14, 64)   0           ['block_8_add[0][0]',            \n",
      "                                                                  'block_9_project_BN[0][0]']     \n",
      "                                                                                                  \n",
      " block_10_expand (Conv2D)       (None, 14, 14, 384)  24576       ['block_9_add[0][0]']            \n",
      "                                                                                                  \n",
      " block_10_expand_BN (BatchNorma  (None, 14, 14, 384)  1536       ['block_10_expand[0][0]']        \n",
      " lization)                                                                                        \n",
      "                                                                                                  \n",
      " block_10_expand_relu (ReLU)    (None, 14, 14, 384)  0           ['block_10_expand_BN[0][0]']     \n",
      "                                                                                                  \n",
      " block_10_depthwise (DepthwiseC  (None, 14, 14, 384)  3456       ['block_10_expand_relu[0][0]']   \n",
      " onv2D)                                                                                           \n",
      "                                                                                                  \n",
      " block_10_depthwise_BN (BatchNo  (None, 14, 14, 384)  1536       ['block_10_depthwise[0][0]']     \n",
      " rmalization)                                                                                     \n",
      "                                                                                                  \n",
      " block_10_depthwise_relu (ReLU)  (None, 14, 14, 384)  0          ['block_10_depthwise_BN[0][0]']  \n",
      "                                                                                                  \n",
      " block_10_project (Conv2D)      (None, 14, 14, 96)   36864       ['block_10_depthwise_relu[0][0]']\n",
      "                                                                                                  \n",
      " block_10_project_BN (BatchNorm  (None, 14, 14, 96)  384         ['block_10_project[0][0]']       \n",
      " alization)                                                                                       \n",
      "                                                                                                  \n",
      " block_11_expand (Conv2D)       (None, 14, 14, 576)  55296       ['block_10_project_BN[0][0]']    \n",
      "                                                                                                  \n",
      " block_11_expand_BN (BatchNorma  (None, 14, 14, 576)  2304       ['block_11_expand[0][0]']        \n",
      " lization)                                                                                        \n",
      "                                                                                                  \n",
      " block_11_expand_relu (ReLU)    (None, 14, 14, 576)  0           ['block_11_expand_BN[0][0]']     \n",
      "                                                                                                  \n",
      " block_11_depthwise (DepthwiseC  (None, 14, 14, 576)  5184       ['block_11_expand_relu[0][0]']   \n",
      " onv2D)                                                                                           \n",
      "                                                                                                  \n",
      " block_11_depthwise_BN (BatchNo  (None, 14, 14, 576)  2304       ['block_11_depthwise[0][0]']     \n",
      " rmalization)                                                                                     \n",
      "                                                                                                  \n",
      " block_11_depthwise_relu (ReLU)  (None, 14, 14, 576)  0          ['block_11_depthwise_BN[0][0]']  \n",
      "                                                                                                  \n",
      " block_11_project (Conv2D)      (None, 14, 14, 96)   55296       ['block_11_depthwise_relu[0][0]']\n",
      "                                                                                                  \n",
      " block_11_project_BN (BatchNorm  (None, 14, 14, 96)  384         ['block_11_project[0][0]']       \n",
      " alization)                                                                                       \n",
      "                                                                                                  \n",
      " block_11_add (Add)             (None, 14, 14, 96)   0           ['block_10_project_BN[0][0]',    \n",
      "                                                                  'block_11_project_BN[0][0]']    \n",
      "                                                                                                  \n",
      " block_12_expand (Conv2D)       (None, 14, 14, 576)  55296       ['block_11_add[0][0]']           \n",
      "                                                                                                  \n",
      " block_12_expand_BN (BatchNorma  (None, 14, 14, 576)  2304       ['block_12_expand[0][0]']        \n",
      " lization)                                                                                        \n",
      "                                                                                                  \n",
      " block_12_expand_relu (ReLU)    (None, 14, 14, 576)  0           ['block_12_expand_BN[0][0]']     \n",
      "                                                                                                  \n",
      " block_12_depthwise (DepthwiseC  (None, 14, 14, 576)  5184       ['block_12_expand_relu[0][0]']   \n",
      " onv2D)                                                                                           \n",
      "                                                                                                  \n",
      " block_12_depthwise_BN (BatchNo  (None, 14, 14, 576)  2304       ['block_12_depthwise[0][0]']     \n",
      " rmalization)                                                                                     \n",
      "                                                                                                  \n",
      " block_12_depthwise_relu (ReLU)  (None, 14, 14, 576)  0          ['block_12_depthwise_BN[0][0]']  \n",
      "                                                                                                  \n",
      " block_12_project (Conv2D)      (None, 14, 14, 96)   55296       ['block_12_depthwise_relu[0][0]']\n",
      "                                                                                                  \n",
      " block_12_project_BN (BatchNorm  (None, 14, 14, 96)  384         ['block_12_project[0][0]']       \n",
      " alization)                                                                                       \n",
      "                                                                                                  \n",
      " block_12_add (Add)             (None, 14, 14, 96)   0           ['block_11_add[0][0]',           \n",
      "                                                                  'block_12_project_BN[0][0]']    \n",
      "                                                                                                  \n",
      " block_13_expand (Conv2D)       (None, 14, 14, 576)  55296       ['block_12_add[0][0]']           \n",
      "                                                                                                  \n",
      " block_13_expand_BN (BatchNorma  (None, 14, 14, 576)  2304       ['block_13_expand[0][0]']        \n",
      " lization)                                                                                        \n",
      "                                                                                                  \n",
      " block_13_expand_relu (ReLU)    (None, 14, 14, 576)  0           ['block_13_expand_BN[0][0]']     \n",
      "                                                                                                  \n",
      " block_13_pad (ZeroPadding2D)   (None, 15, 15, 576)  0           ['block_13_expand_relu[0][0]']   \n",
      "                                                                                                  \n",
      " block_13_depthwise (DepthwiseC  (None, 7, 7, 576)   5184        ['block_13_pad[0][0]']           \n",
      " onv2D)                                                                                           \n",
      "                                                                                                  \n",
      " block_13_depthwise_BN (BatchNo  (None, 7, 7, 576)   2304        ['block_13_depthwise[0][0]']     \n",
      " rmalization)                                                                                     \n",
      "                                                                                                  \n",
      " block_13_depthwise_relu (ReLU)  (None, 7, 7, 576)   0           ['block_13_depthwise_BN[0][0]']  \n",
      "                                                                                                  \n",
      " block_13_project (Conv2D)      (None, 7, 7, 160)    92160       ['block_13_depthwise_relu[0][0]']\n",
      "                                                                                                  \n",
      " block_13_project_BN (BatchNorm  (None, 7, 7, 160)   640         ['block_13_project[0][0]']       \n",
      " alization)                                                                                       \n",
      "                                                                                                  \n",
      " block_14_expand (Conv2D)       (None, 7, 7, 960)    153600      ['block_13_project_BN[0][0]']    \n",
      "                                                                                                  \n",
      " block_14_expand_BN (BatchNorma  (None, 7, 7, 960)   3840        ['block_14_expand[0][0]']        \n",
      " lization)                                                                                        \n",
      "                                                                                                  \n",
      " block_14_expand_relu (ReLU)    (None, 7, 7, 960)    0           ['block_14_expand_BN[0][0]']     \n",
      "                                                                                                  \n",
      " block_14_depthwise (DepthwiseC  (None, 7, 7, 960)   8640        ['block_14_expand_relu[0][0]']   \n",
      " onv2D)                                                                                           \n",
      "                                                                                                  \n",
      " block_14_depthwise_BN (BatchNo  (None, 7, 7, 960)   3840        ['block_14_depthwise[0][0]']     \n",
      " rmalization)                                                                                     \n",
      "                                                                                                  \n",
      " block_14_depthwise_relu (ReLU)  (None, 7, 7, 960)   0           ['block_14_depthwise_BN[0][0]']  \n",
      "                                                                                                  \n",
      " block_14_project (Conv2D)      (None, 7, 7, 160)    153600      ['block_14_depthwise_relu[0][0]']\n",
      "                                                                                                  \n",
      " block_14_project_BN (BatchNorm  (None, 7, 7, 160)   640         ['block_14_project[0][0]']       \n",
      " alization)                                                                                       \n",
      "                                                                                                  \n",
      " block_14_add (Add)             (None, 7, 7, 160)    0           ['block_13_project_BN[0][0]',    \n",
      "                                                                  'block_14_project_BN[0][0]']    \n",
      "                                                                                                  \n",
      " block_15_expand (Conv2D)       (None, 7, 7, 960)    153600      ['block_14_add[0][0]']           \n",
      "                                                                                                  \n",
      " block_15_expand_BN (BatchNorma  (None, 7, 7, 960)   3840        ['block_15_expand[0][0]']        \n",
      " lization)                                                                                        \n",
      "                                                                                                  \n",
      " block_15_expand_relu (ReLU)    (None, 7, 7, 960)    0           ['block_15_expand_BN[0][0]']     \n",
      "                                                                                                  \n",
      " block_15_depthwise (DepthwiseC  (None, 7, 7, 960)   8640        ['block_15_expand_relu[0][0]']   \n",
      " onv2D)                                                                                           \n",
      "                                                                                                  \n",
      " block_15_depthwise_BN (BatchNo  (None, 7, 7, 960)   3840        ['block_15_depthwise[0][0]']     \n",
      " rmalization)                                                                                     \n",
      "                                                                                                  \n",
      " block_15_depthwise_relu (ReLU)  (None, 7, 7, 960)   0           ['block_15_depthwise_BN[0][0]']  \n",
      "                                                                                                  \n",
      " block_15_project (Conv2D)      (None, 7, 7, 160)    153600      ['block_15_depthwise_relu[0][0]']\n",
      "                                                                                                  \n",
      " block_15_project_BN (BatchNorm  (None, 7, 7, 160)   640         ['block_15_project[0][0]']       \n",
      " alization)                                                                                       \n",
      "                                                                                                  \n",
      " block_15_add (Add)             (None, 7, 7, 160)    0           ['block_14_add[0][0]',           \n",
      "                                                                  'block_15_project_BN[0][0]']    \n",
      "                                                                                                  \n",
      " block_16_expand (Conv2D)       (None, 7, 7, 960)    153600      ['block_15_add[0][0]']           \n",
      "                                                                                                  \n",
      " block_16_expand_BN (BatchNorma  (None, 7, 7, 960)   3840        ['block_16_expand[0][0]']        \n",
      " lization)                                                                                        \n",
      "                                                                                                  \n",
      " block_16_expand_relu (ReLU)    (None, 7, 7, 960)    0           ['block_16_expand_BN[0][0]']     \n",
      "                                                                                                  \n",
      " block_16_depthwise (DepthwiseC  (None, 7, 7, 960)   8640        ['block_16_expand_relu[0][0]']   \n",
      " onv2D)                                                                                           \n",
      "                                                                                                  \n",
      " block_16_depthwise_BN (BatchNo  (None, 7, 7, 960)   3840        ['block_16_depthwise[0][0]']     \n",
      " rmalization)                                                                                     \n",
      "                                                                                                  \n",
      " block_16_depthwise_relu (ReLU)  (None, 7, 7, 960)   0           ['block_16_depthwise_BN[0][0]']  \n",
      "                                                                                                  \n",
      " block_16_project (Conv2D)      (None, 7, 7, 320)    307200      ['block_16_depthwise_relu[0][0]']\n",
      "                                                                                                  \n",
      " block_16_project_BN (BatchNorm  (None, 7, 7, 320)   1280        ['block_16_project[0][0]']       \n",
      " alization)                                                                                       \n",
      "                                                                                                  \n",
      " Conv_1 (Conv2D)                (None, 7, 7, 1280)   409600      ['block_16_project_BN[0][0]']    \n",
      "                                                                                                  \n",
      " Conv_1_bn (BatchNormalization)  (None, 7, 7, 1280)  5120        ['Conv_1[0][0]']                 \n",
      "                                                                                                  \n",
      " out_relu (ReLU)                (None, 7, 7, 1280)   0           ['Conv_1_bn[0][0]']              \n",
      "                                                                                                  \n",
      "==================================================================================================\n",
      "Total params: 2,257,984\n",
      "Trainable params: 0\n",
      "Non-trainable params: 2,257,984\n",
      "__________________________________________________________________________________________________\n"
     ]
    }
   ],
   "source": [
    "mobileNet.summary()"
   ]
  },
  {
   "cell_type": "markdown",
   "id": "8f9d361e-c955-41fd-ac07-edfeb20d12fc",
   "metadata": {},
   "source": [
    "This pre trained model will capture latent feature from each image. Then we will add globalAveragePooling to flatten dimension and a dense layer related to our prediction."
   ]
  },
  {
   "cell_type": "code",
   "execution_count": 50,
   "id": "5c050100-a297-49dd-90a2-5893bca61f35",
   "metadata": {},
   "outputs": [],
   "source": [
    "model = models.Sequential()\n",
    "model.add(mobileNet)\n",
    "model.add(tf.keras.layers.GlobalAveragePooling2D())\n",
    "model.add(tf.keras.layers.Dense(nb_classes, 'softmax'))\n",
    "model.compile(\"adam\", loss=\"CategoricalCrossentropy\")"
   ]
  },
  {
   "cell_type": "code",
   "execution_count": 51,
   "id": "b1721dc6-d489-463f-b56d-0d31fc881a42",
   "metadata": {},
   "outputs": [
    {
     "name": "stdout",
     "output_type": "stream",
     "text": [
      "Model: \"sequential_5\"\n",
      "_________________________________________________________________\n",
      " Layer (type)                Output Shape              Param #   \n",
      "=================================================================\n",
      " mobilenetv2_1.00_224 (Funct  (None, 7, 7, 1280)       2257984   \n",
      " ional)                                                          \n",
      "                                                                 \n",
      " global_average_pooling2d_5   (None, 1280)             0         \n",
      " (GlobalAveragePooling2D)                                        \n",
      "                                                                 \n",
      " dense_3 (Dense)             (None, 5)                 6405      \n",
      "                                                                 \n",
      "=================================================================\n",
      "Total params: 2,264,389\n",
      "Trainable params: 6,405\n",
      "Non-trainable params: 2,257,984\n",
      "_________________________________________________________________\n"
     ]
    }
   ],
   "source": [
    "model.summary()"
   ]
  },
  {
   "cell_type": "code",
   "execution_count": 52,
   "id": "18509266-0842-496a-9dd4-10a03b99822c",
   "metadata": {
    "scrolled": true,
    "tags": []
   },
   "outputs": [
    {
     "name": "stdout",
     "output_type": "stream",
     "text": [
      "Epoch 1/50\n",
      "17/17 [==============================] - 7s 321ms/step - loss: 1.4952\n",
      "Epoch 2/50\n",
      "17/17 [==============================] - 5s 302ms/step - loss: 0.9521\n",
      "Epoch 3/50\n",
      "17/17 [==============================] - 5s 303ms/step - loss: 0.7005\n",
      "Epoch 4/50\n",
      "17/17 [==============================] - 5s 307ms/step - loss: 0.5604\n",
      "Epoch 5/50\n",
      "17/17 [==============================] - 6s 328ms/step - loss: 0.4772\n",
      "Epoch 6/50\n",
      "17/17 [==============================] - 7s 408ms/step - loss: 0.4086\n",
      "Epoch 7/50\n",
      "17/17 [==============================] - 6s 377ms/step - loss: 0.3552\n",
      "Epoch 8/50\n",
      "17/17 [==============================] - 6s 363ms/step - loss: 0.3273\n",
      "Epoch 9/50\n",
      "17/17 [==============================] - 7s 381ms/step - loss: 0.2935\n",
      "Epoch 10/50\n",
      "17/17 [==============================] - 6s 330ms/step - loss: 0.2648\n",
      "Epoch 11/50\n",
      "17/17 [==============================] - 6s 330ms/step - loss: 0.2452\n",
      "Epoch 12/50\n",
      "17/17 [==============================] - 5s 312ms/step - loss: 0.2199\n",
      "Epoch 13/50\n",
      "17/17 [==============================] - 6s 327ms/step - loss: 0.2052\n",
      "Epoch 14/50\n",
      "17/17 [==============================] - 6s 336ms/step - loss: 0.1888\n",
      "Epoch 15/50\n",
      "17/17 [==============================] - 6s 324ms/step - loss: 0.1780\n",
      "Epoch 16/50\n",
      "17/17 [==============================] - 5s 321ms/step - loss: 0.1665\n",
      "Epoch 17/50\n",
      "17/17 [==============================] - 6s 358ms/step - loss: 0.1542\n",
      "Epoch 18/50\n",
      "17/17 [==============================] - 6s 354ms/step - loss: 0.1461\n",
      "Epoch 19/50\n",
      "17/17 [==============================] - 5s 314ms/step - loss: 0.1407\n",
      "Epoch 20/50\n",
      "17/17 [==============================] - 6s 326ms/step - loss: 0.1310\n",
      "Epoch 21/50\n",
      "17/17 [==============================] - 6s 372ms/step - loss: 0.1230\n",
      "Epoch 22/50\n",
      "17/17 [==============================] - 6s 327ms/step - loss: 0.1159\n",
      "Epoch 23/50\n",
      "17/17 [==============================] - 6s 337ms/step - loss: 0.1120\n",
      "Epoch 24/50\n",
      "17/17 [==============================] - 6s 325ms/step - loss: 0.1052\n",
      "Epoch 25/50\n",
      "17/17 [==============================] - 5s 319ms/step - loss: 0.1001\n",
      "Epoch 26/50\n",
      "17/17 [==============================] - 5s 319ms/step - loss: 0.0961\n",
      "Epoch 27/50\n",
      "17/17 [==============================] - 5s 318ms/step - loss: 0.0908\n",
      "Epoch 28/50\n",
      "17/17 [==============================] - 5s 321ms/step - loss: 0.0858\n",
      "Epoch 29/50\n",
      "17/17 [==============================] - 5s 322ms/step - loss: 0.0829\n",
      "Epoch 30/50\n",
      "17/17 [==============================] - 5s 321ms/step - loss: 0.0792\n",
      "Epoch 31/50\n",
      "17/17 [==============================] - 5s 318ms/step - loss: 0.0778\n",
      "Epoch 32/50\n",
      "17/17 [==============================] - 6s 325ms/step - loss: 0.0734\n",
      "Epoch 33/50\n",
      "17/17 [==============================] - 5s 322ms/step - loss: 0.0707\n",
      "Epoch 34/50\n",
      "17/17 [==============================] - 6s 324ms/step - loss: 0.0677\n",
      "Epoch 35/50\n",
      "17/17 [==============================] - 6s 323ms/step - loss: 0.0657\n",
      "Epoch 36/50\n",
      "17/17 [==============================] - 6s 324ms/step - loss: 0.0639\n",
      "Epoch 37/50\n",
      "17/17 [==============================] - 6s 323ms/step - loss: 0.0623\n",
      "Epoch 38/50\n",
      "17/17 [==============================] - 6s 352ms/step - loss: 0.0603\n",
      "Epoch 39/50\n",
      "17/17 [==============================] - 7s 404ms/step - loss: 0.0583\n",
      "Epoch 40/50\n",
      "17/17 [==============================] - 6s 357ms/step - loss: 0.0561\n",
      "Epoch 41/50\n",
      "17/17 [==============================] - 7s 400ms/step - loss: 0.0546\n",
      "Epoch 42/50\n",
      "17/17 [==============================] - 6s 330ms/step - loss: 0.0542\n",
      "Epoch 43/50\n",
      "17/17 [==============================] - 5s 316ms/step - loss: 0.0510\n",
      "Epoch 44/50\n",
      "17/17 [==============================] - 5s 317ms/step - loss: 0.0502\n",
      "Epoch 45/50\n",
      "17/17 [==============================] - 5s 314ms/step - loss: 0.0488\n",
      "Epoch 46/50\n",
      "17/17 [==============================] - 5s 315ms/step - loss: 0.0483\n",
      "Epoch 47/50\n",
      "17/17 [==============================] - 5s 315ms/step - loss: 0.0484\n",
      "Epoch 48/50\n",
      "17/17 [==============================] - 5s 316ms/step - loss: 0.0464\n",
      "Epoch 49/50\n",
      "17/17 [==============================] - 5s 322ms/step - loss: 0.0448\n",
      "Epoch 50/50\n",
      "17/17 [==============================] - 5s 316ms/step - loss: 0.0437\n"
     ]
    },
    {
     "data": {
      "text/plain": [
       "<keras.callbacks.History at 0x15f1d661040>"
      ]
     },
     "execution_count": 52,
     "metadata": {},
     "output_type": "execute_result"
    }
   ],
   "source": [
    "model.fit(X_train, y_train, epochs = 50, verbose=1, shuffle=True)"
   ]
  },
  {
   "cell_type": "code",
   "execution_count": 56,
   "id": "0bde99a9-7937-4e12-a770-a3d36878cd77",
   "metadata": {},
   "outputs": [
    {
     "data": {
      "image/png": "[encoded data removed]",
      "text/plain": [
       "<Figure size 432x288 with 1 Axes>"
      ]
     },
     "metadata": {
      "needs_background": "light"
     },
     "output_type": "display_data"
    }
   ],
   "source": [
    "plt.plot(model.history.history['loss'])\n",
    "plt.yscale(\"log\")"
   ]
  },
  {
   "cell_type": "markdown",
   "id": "af7ef023-e02c-474c-8d1c-22e9a154a049",
   "metadata": {},
   "source": [
    "In a CNN, the first layer tends to capture generic fetaure and more we go deeper, more it is specific to the task. So we will unfreeze last layers to reach better performance."
   ]
  },
  {
   "cell_type": "code",
   "execution_count": 61,
   "id": "821c411e-96bd-4a9a-b474-e09d676121fe",
   "metadata": {},
   "outputs": [],
   "source": [
    "fine_tune_at = 100\n",
    "\n",
    "# Freeze all the layers before the `fine_tune_at` layer\n",
    "for layer in model.layers[0].layers[fine_tune_at:]:\n",
    "    layer.trainable = True"
   ]
  },
  {
   "cell_type": "code",
   "execution_count": 64,
   "id": "8b7e9f31-7b56-4b8e-afda-084e409e05cc",
   "metadata": {
    "scrolled": true,
    "tags": []
   },
   "outputs": [
    {
     "name": "stdout",
     "output_type": "stream",
     "text": [
      "Epoch 1/50\n",
      "17/17 [==============================] - 6s 322ms/step - loss: 0.0260\n",
      "Epoch 2/50\n",
      "17/17 [==============================] - 6s 324ms/step - loss: 0.0318\n",
      "Epoch 3/50\n",
      "17/17 [==============================] - 6s 353ms/step - loss: 0.0310\n",
      "Epoch 4/50\n",
      "17/17 [==============================] - 6s 355ms/step - loss: 0.0238\n",
      "Epoch 5/50\n",
      "17/17 [==============================] - 7s 384ms/step - loss: 0.0229\n",
      "Epoch 6/50\n",
      "17/17 [==============================] - 6s 359ms/step - loss: 0.0232\n",
      "Epoch 7/50\n",
      "17/17 [==============================] - 6s 344ms/step - loss: 0.0221\n",
      "Epoch 8/50\n",
      "17/17 [==============================] - 6s 352ms/step - loss: 0.0261\n",
      "Epoch 9/50\n",
      "17/17 [==============================] - 6s 371ms/step - loss: 0.0224\n",
      "Epoch 10/50\n",
      "17/17 [==============================] - 6s 377ms/step - loss: 0.0218\n",
      "Epoch 11/50\n",
      "17/17 [==============================] - 6s 341ms/step - loss: 0.0236\n",
      "Epoch 12/50\n",
      "17/17 [==============================] - 6s 344ms/step - loss: 0.0267\n",
      "Epoch 13/50\n",
      "17/17 [==============================] - 5s 315ms/step - loss: 0.0222\n",
      "Epoch 14/50\n",
      "17/17 [==============================] - 6s 336ms/step - loss: 0.0224\n",
      "Epoch 15/50\n",
      "17/17 [==============================] - 6s 359ms/step - loss: 0.0216\n",
      "Epoch 16/50\n",
      "17/17 [==============================] - 6s 367ms/step - loss: 0.0211\n",
      "Epoch 17/50\n",
      "17/17 [==============================] - 6s 330ms/step - loss: 0.0246\n",
      "Epoch 18/50\n",
      "17/17 [==============================] - 6s 341ms/step - loss: 0.0227\n",
      "Epoch 19/50\n",
      "17/17 [==============================] - 6s 337ms/step - loss: 0.0256\n",
      "Epoch 20/50\n",
      "17/17 [==============================] - 5s 319ms/step - loss: 0.0216\n",
      "Epoch 21/50\n",
      "17/17 [==============================] - 6s 370ms/step - loss: 0.0209\n",
      "Epoch 22/50\n",
      "17/17 [==============================] - 6s 346ms/step - loss: 0.0207\n",
      "Epoch 23/50\n",
      "17/17 [==============================] - 6s 350ms/step - loss: 0.0216\n",
      "Epoch 24/50\n",
      "17/17 [==============================] - 6s 355ms/step - loss: 0.0216\n",
      "Epoch 25/50\n",
      "17/17 [==============================] - 6s 348ms/step - loss: 0.0210\n",
      "Epoch 26/50\n",
      "17/17 [==============================] - 6s 370ms/step - loss: 0.0216\n",
      "Epoch 27/50\n",
      "17/17 [==============================] - 6s 329ms/step - loss: 0.0221\n",
      "Epoch 28/50\n",
      "17/17 [==============================] - 7s 386ms/step - loss: 0.0209\n",
      "Epoch 29/50\n",
      "17/17 [==============================] - 6s 365ms/step - loss: 0.0201\n",
      "Epoch 30/50\n",
      "17/17 [==============================] - 7s 418ms/step - loss: 0.0199\n",
      "Epoch 31/50\n",
      "17/17 [==============================] - 6s 345ms/step - loss: 0.0198\n",
      "Epoch 32/50\n",
      "17/17 [==============================] - 6s 336ms/step - loss: 0.0200\n",
      "Epoch 33/50\n",
      "17/17 [==============================] - 6s 333ms/step - loss: 0.0205\n",
      "Epoch 34/50\n",
      "17/17 [==============================] - 6s 341ms/step - loss: 0.0205\n",
      "Epoch 35/50\n",
      "17/17 [==============================] - 5s 316ms/step - loss: 0.0202\n",
      "Epoch 36/50\n",
      "17/17 [==============================] - 6s 354ms/step - loss: 0.0204\n",
      "Epoch 37/50\n",
      "17/17 [==============================] - 6s 342ms/step - loss: 0.0198\n",
      "Epoch 38/50\n",
      "17/17 [==============================] - 6s 324ms/step - loss: 0.0199\n",
      "Epoch 39/50\n",
      "17/17 [==============================] - 6s 341ms/step - loss: 0.0222\n",
      "Epoch 40/50\n",
      "17/17 [==============================] - 5s 321ms/step - loss: 0.0194\n",
      "Epoch 41/50\n",
      "17/17 [==============================] - 6s 362ms/step - loss: 0.0188\n",
      "Epoch 42/50\n",
      "17/17 [==============================] - 6s 376ms/step - loss: 0.0195\n",
      "Epoch 43/50\n",
      "17/17 [==============================] - 6s 323ms/step - loss: 0.0196\n",
      "Epoch 44/50\n",
      "17/17 [==============================] - 7s 392ms/step - loss: 0.0189\n",
      "Epoch 45/50\n",
      "17/17 [==============================] - 7s 406ms/step - loss: 0.0192\n",
      "Epoch 46/50\n",
      "17/17 [==============================] - 6s 378ms/step - loss: 0.0209\n",
      "Epoch 47/50\n",
      "17/17 [==============================] - 6s 381ms/step - loss: 0.0210\n",
      "Epoch 48/50\n",
      "17/17 [==============================] - 6s 357ms/step - loss: 0.0201\n",
      "Epoch 49/50\n",
      "17/17 [==============================] - 5s 323ms/step - loss: 0.0202\n",
      "Epoch 50/50\n",
      "17/17 [==============================] - 6s 335ms/step - loss: 0.0186\n"
     ]
    },
    {
     "data": {
      "text/plain": [
       "<keras.callbacks.History at 0x15f02bfb400>"
      ]
     },
     "execution_count": 64,
     "metadata": {},
     "output_type": "execute_result"
    }
   ],
   "source": [
    "model.fit(X_train, y_train, epochs = 50, verbose=1, shuffle=True)"
   ]
  },
  {
   "cell_type": "code",
   "execution_count": 65,
   "id": "392d82e5-af1f-4c44-b726-93b10039bf7d",
   "metadata": {},
   "outputs": [
    {
     "data": {
      "image/png": "[encoded data removed]",
      "text/plain": [
       "<Figure size 432x288 with 1 Axes>"
      ]
     },
     "metadata": {
      "needs_background": "light"
     },
     "output_type": "display_data"
    }
   ],
   "source": [
    "plt.plot(model.history.history['loss'])\n",
    "plt.yscale(\"log\")"
   ]
  },
  {
   "cell_type": "code",
   "execution_count": 89,
   "id": "72f03e19-d15d-4274-a5da-eaaba8b4524e",
   "metadata": {},
   "outputs": [
    {
     "name": "stdout",
     "output_type": "stream",
     "text": [
      "5/5 [==============================] - 1s 257ms/step\n"
     ]
    },
    {
     "data": {
      "image/png": "[encoded data removed]",
      "text/plain": [
       "<Figure size 432x288 with 2 Axes>"
      ]
     },
     "metadata": {
      "needs_background": "light"
     },
     "output_type": "display_data"
    }
   ],
   "source": [
    "y_pred = model.predict(X_test)         \n",
    "y_pred = np.argmax(y_pred, axis = 1)\n",
    "\n",
    "M = confusion_matrix(np.argmax(y_test, axis = 1), y_pred)\n",
    "ax = sns.heatmap(M, annot=True, cmap='Blues')\n",
    "\n",
    "ax.set_title('Seaborn Confusion Matrix with labels\\n\\n');\n",
    "ax.set_xlabel('\\nPredicted Values')\n",
    "ax.set_ylabel('Actual Values ')\n",
    "\n",
    "## Display the visualization of the Confusion Matrix.\n",
    "plt.show()"
   ]
  },
  {
   "cell_type": "code",
   "execution_count": 90,
   "id": "b32ea37e-e37f-4e2c-a5db-d2eddf830481",
   "metadata": {},
   "outputs": [
    {
     "name": "stderr",
     "output_type": "stream",
     "text": [
      "WARNING:absl:Function `_wrapped_model` contains input name(s) mobilenetv2_1.00_224_input with unsupported characters which will be renamed to mobilenetv2_1_00_224_input in the SavedModel.\n",
      "WARNING:absl:Found untraced functions such as _jit_compiled_convolution_op, _jit_compiled_convolution_op, _jit_compiled_convolution_op, _jit_compiled_convolution_op, _jit_compiled_convolution_op while saving (showing 5 of 52). These functions will not be directly callable after loading.\n"
     ]
    },
    {
     "name": "stdout",
     "output_type": "stream",
     "text": [
      "INFO:tensorflow:Assets written to: Chess classification\\assets\n"
     ]
    },
    {
     "name": "stderr",
     "output_type": "stream",
     "text": [
      "INFO:tensorflow:Assets written to: Chess classification\\assets\n"
     ]
    }
   ],
   "source": [
    "model.save(\"Chess classification\")"
   ]
  },
  {
   "cell_type": "code",
   "execution_count": null,
   "id": "ad93d44f-40f3-451c-b43d-ea8d9e0681f7",
   "metadata": {},
   "outputs": [],
   "source": []
  }
 ],
 "metadata": {
  "kernelspec": {
   "display_name": "Tf",
   "language": "python",
   "name": "tf"
  },
  "language_info": {
   "codemirror_mode": {
    "name": "ipython",
    "version": 3
   },
   "file_extension": ".py",
   "mimetype": "text/x-python",
   "name": "python",
   "nbconvert_exporter": "python",
   "pygments_lexer": "ipython3",
   "version": "3.9.6"
  }
 },
 "nbformat": 4,
 "nbformat_minor": 5
}
